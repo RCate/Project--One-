{
 "cells": [
  {
   "cell_type": "code",
   "execution_count": 1,
   "metadata": {},
   "outputs": [],
   "source": [
    "import os\n",
    "import pandas as pd\n",
    "import matplotlib.pyplot as plt\n",
    "import numpy as np"
   ]
  },
  {
   "cell_type": "code",
   "execution_count": 16,
   "metadata": {},
   "outputs": [
    {
     "data": {
      "text/plain": [
       "summary                 5373\n",
       "zipcode                 5810\n",
       "property_type           5835\n",
       "accommodates            5835\n",
       "bedrooms                5829\n",
       "bathrooms               5789\n",
       "beds                    5812\n",
       "amenities               5835\n",
       "square_feet              302\n",
       "price                   5835\n",
       "availability_365        5835\n",
       "cancellation_policy     5835\n",
       "review_scores_rating    3789\n",
       "review_scores_value     3778\n",
       "description             5832\n",
       "instant_bookable        5835\n",
       "host_verifications      5835\n",
       "dtype: int64"
      ]
     },
     "execution_count": 16,
     "metadata": {},
     "output_type": "execute_result"
    }
   ],
   "source": [
    "csv_file = \"Airbnb_Austin_Data_Finalized.csv\"\n",
    "abb_csv = pd.read_csv(csv_file)\n",
    "abb_df = pd.DataFrame(abb_csv)\n",
    "abb_df.count()"
   ]
  },
  {
   "cell_type": "code",
   "execution_count": 3,
   "metadata": {},
   "outputs": [],
   "source": [
    "cable_count = 0\n",
    "wifi_count = 0\n",
    "pool_count = 0\n",
    "kitchen_count = 0\n",
    "event_count =0\n",
    "pets_count = 0\n"
   ]
  },
  {
   "cell_type": "code",
   "execution_count": 4,
   "metadata": {},
   "outputs": [
    {
     "data": {
      "text/plain": [
       "summary                 797\n",
       "zipcode                 877\n",
       "property_type           879\n",
       "accommodates            879\n",
       "bedrooms                878\n",
       "bathrooms               876\n",
       "beds                    876\n",
       "amenities               879\n",
       "square_feet              80\n",
       "price                   879\n",
       "availability_365        879\n",
       "cancellation_policy     879\n",
       "review_scores_rating    542\n",
       "review_scores_value     538\n",
       "description             879\n",
       "instant_bookable        879\n",
       "host_verifications      879\n",
       "dtype: int64"
      ]
     },
     "execution_count": 4,
     "metadata": {},
     "output_type": "execute_result"
    }
   ],
   "source": [
    "#test .loc to find how many properties accomodate 6 people\n",
    "\n",
    "accomodates_6 = abb_df.loc[(abb_df[\"accommodates\"]==6),:]\n",
    "accomodates_6.count()\n"
   ]
  },
  {
   "cell_type": "code",
   "execution_count": 5,
   "metadata": {},
   "outputs": [
    {
     "data": {
      "text/plain": [
       "summary                 1427\n",
       "zipcode                 1500\n",
       "property_type           1503\n",
       "accommodates            1503\n",
       "bedrooms                1502\n",
       "bathrooms               1500\n",
       "beds                    1501\n",
       "amenities               1503\n",
       "square_feet               49\n",
       "price                   1503\n",
       "availability_365        1503\n",
       "cancellation_policy     1503\n",
       "review_scores_rating     878\n",
       "review_scores_value      875\n",
       "description             1502\n",
       "instant_bookable        1503\n",
       "host_verifications      1503\n",
       "dtype: int64"
      ]
     },
     "execution_count": 5,
     "metadata": {},
     "output_type": "execute_result"
    }
   ],
   "source": [
    "#use .loc to find how many proporties offer a pool or .str.contains\n",
    "pools_df = abb_df.loc[(abb_df[\"amenities\"].str.contains(\"Pool\"))]\n",
    "pools_df.count()\n"
   ]
  },
  {
   "cell_type": "code",
   "execution_count": 6,
   "metadata": {},
   "outputs": [
    {
     "data": {
      "text/plain": [
       "1503"
      ]
     },
     "execution_count": 6,
     "metadata": {},
     "output_type": "execute_result"
    }
   ],
   "source": [
    "#use .loc to find boolean response to question about an amenity\n",
    "pool_bool = abb_df[\"amenities\"].str.contains(\"Pool\")\n",
    "pool_bool_obj = pool_bool.value_counts()\n",
    "pool_count = pool_bool_obj[1]\n",
    "pool_count"
   ]
  },
  {
   "cell_type": "code",
   "execution_count": 7,
   "metadata": {},
   "outputs": [
    {
     "data": {
      "text/plain": [
       "2552"
      ]
     },
     "execution_count": 7,
     "metadata": {},
     "output_type": "execute_result"
    }
   ],
   "source": [
    "cable_bool = abb_df[\"amenities\"].str.contains(\"Cable TV\")\n",
    "cable_bool_obj = cable_bool.value_counts()\n",
    "cable_count = cable_bool_obj[1]\n",
    "cable_count"
   ]
  },
  {
   "cell_type": "code",
   "execution_count": 8,
   "metadata": {},
   "outputs": [
    {
     "data": {
      "text/plain": [
       "5479"
      ]
     },
     "execution_count": 8,
     "metadata": {},
     "output_type": "execute_result"
    }
   ],
   "source": [
    "wifi_bool = abb_df[\"amenities\"].str.contains(\"Wireless Internet\")\n",
    "wifi_bool_obj = wifi_bool.value_counts()\n",
    "wifi_count = wifi_bool_obj[1]\n",
    "wifi_count"
   ]
  },
  {
   "cell_type": "code",
   "execution_count": 9,
   "metadata": {},
   "outputs": [
    {
     "data": {
      "text/plain": [
       "2400"
      ]
     },
     "execution_count": 9,
     "metadata": {},
     "output_type": "execute_result"
    }
   ],
   "source": [
    "pets_bool = abb_df[\"amenities\"].str.contains(\"Pets\")\n",
    "pets_bool_obj = pets_bool.value_counts()\n",
    "pets_count = pets_bool_obj[1]\n",
    "pets_count"
   ]
  },
  {
   "cell_type": "code",
   "execution_count": 10,
   "metadata": {},
   "outputs": [
    {
     "data": {
      "text/plain": [
       "5400"
      ]
     },
     "execution_count": 10,
     "metadata": {},
     "output_type": "execute_result"
    }
   ],
   "source": [
    "kitchen_bool = abb_df[\"amenities\"].str.contains(\"Kitchen\")\n",
    "kitchen_bool_obj = kitchen_bool.value_counts()\n",
    "kitchen_count = kitchen_bool_obj[1]\n",
    "kitchen_count"
   ]
  },
  {
   "cell_type": "code",
   "execution_count": 11,
   "metadata": {},
   "outputs": [
    {
     "data": {
      "text/plain": [
       "850"
      ]
     },
     "execution_count": 11,
     "metadata": {},
     "output_type": "execute_result"
    }
   ],
   "source": [
    "event_bool = abb_df[\"amenities\"].str.contains(\"Suitable for Events\")\n",
    "event_bool_obj = event_bool.value_counts()\n",
    "event_count = event_bool_obj[1]\n",
    "event_count"
   ]
  },
  {
   "cell_type": "code",
   "execution_count": 12,
   "metadata": {},
   "outputs": [
    {
     "data": {
      "text/plain": [
       "4647"
      ]
     },
     "execution_count": 12,
     "metadata": {},
     "output_type": "execute_result"
    }
   ],
   "source": [
    "TV_bool = abb_df[\"amenities\"].str.contains(\"TV\")\n",
    "TV_bool_obj = TV_bool.value_counts()\n",
    "TV_count = TV_bool_obj[1]\n",
    "TV_count"
   ]
  },
  {
   "cell_type": "code",
   "execution_count": 41,
   "metadata": {},
   "outputs": [
    {
     "data": {
      "text/plain": [
       "[5479, 5400, 4647, 2400, 2552, 1503, 850]"
      ]
     },
     "execution_count": 41,
     "metadata": {},
     "output_type": "execute_result"
    }
   ],
   "source": [
    "amenities = [\"Wi-fi\", \"Kitchen\",\"TV\",\"Pets\",\"Cable\",\"Pool\",\"Event\"]\n",
    "y_axis = [wifi_count, kitchen_count, TV_count, pets_count, cable_count, pool_count, event_count]\n",
    "colors = [\"skyblue\",\"thistle\",\"lightcoral\",\"mediumaquamarine\",\"moccasin\",\"palegoldenrod\",\"rosybrown\"]\n",
    "y_axis"
   ]
  },
  {
   "cell_type": "code",
   "execution_count": 42,
   "metadata": {
    "scrolled": true
   },
   "outputs": [
    {
     "data": {
      "image/png": "[encoded data removed]",
      "text/plain": [
       "<matplotlib.figure.Figure at 0x117f335f8>"
      ]
     },
     "metadata": {},
     "output_type": "display_data"
    }
   ],
   "source": [
    "\n",
    "plt.bar(amenities, y_axis, color=colors, align=\"center\")\n",
    "plt.title(\"Austin AirBnB Amenities\")\n",
    "plt.xlabel(\"Amenities\")\n",
    "plt.ylabel(\"Listings\")\n",
    "plt.savefig(\"AustinAmenitiesBarChart.png\")\n",
    "plt.show()"
   ]
  },
  {
   "cell_type": "code",
   "execution_count": null,
   "metadata": {},
   "outputs": [],
   "source": []
  }
 ],
 "metadata": {
  "kernelspec": {
   "display_name": "Python [conda env:PythonData]",
   "language": "python",
   "name": "conda-env-PythonData-py"
  },
  "language_info": {
   "codemirror_mode": {
    "name": "ipython",
    "version": 3
   },
   "file_extension": ".py",
   "mimetype": "text/x-python",
   "name": "python",
   "nbconvert_exporter": "python",
   "pygments_lexer": "ipython3",
   "version": "3.6.4"
  }
 },
 "nbformat": 4,
 "nbformat_minor": 2
}
