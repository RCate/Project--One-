{
 "cells": [
  {
   "cell_type": "code",
   "execution_count": 1,
   "metadata": {},
   "outputs": [
    {
     "name": "stdout",
     "output_type": "stream",
     "text": [
      "Airbnb_Austin_Data_Finalized.csv\r\n",
      "\u001b[31mAirbnb_Texas_Rentals.csv\u001b[m\u001b[m\r\n",
      "Airbnb_Top_TXcities.ipynb\r\n",
      "Cancellation_vrs_price.ipynb\r\n",
      "Cleaning_up_Austin_data_newCSV.ipynb\r\n",
      "README.md\r\n",
      "Top 10 Airbnb Cities in Texas.png\r\n",
      "Top 6 Airbnb Cities in Texas.png\r\n",
      "Untitled.ipynb\r\n",
      "\u001b[34m__pycache__\u001b[m\u001b[m\r\n",
      "airbnb-property-data-from-texas.zip\r\n",
      "airbnb-property-data-from-texas.zip 2.cpgz\r\n",
      "airbnb-property-data-from-texas.zip.cpgz\r\n",
      "api_homeaway.ipynb\r\n",
      "client.py\r\n",
      "google_maps_test.ipynb\r\n",
      "hello.py\r\n",
      "large_airbnb_file.ipynb\r\n",
      "listings.csv\r\n",
      "listings_copy.csv\r\n",
      "listings_summary.csv\r\n",
      "test.htm\r\n",
      "\u001b[34mtest_data\u001b[m\u001b[m\r\n",
      "test_environment_Homeaway.py\r\n"
     ]
    }
   ],
   "source": [
    "!ls"
   ]
  },
  {
   "cell_type": "code",
   "execution_count": 6,
   "metadata": {},
   "outputs": [],
   "source": [
    "in_file = open(\"test.htm\", \"r\")\n",
    "in_file.readline()\n",
    "in_file.readline()\n",
    "my_str = in_file.readline()"
   ]
  },
  {
   "cell_type": "code",
   "execution_count": 9,
   "metadata": {},
   "outputs": [],
   "source": [
    "my_list = my_str.split('\"comments\":')"
   ]
  },
  {
   "cell_type": "code",
   "execution_count": 11,
   "metadata": {},
   "outputs": [],
   "source": [
    "my_list = my_list[1:]"
   ]
  },
  {
   "cell_type": "code",
   "execution_count": 21,
   "metadata": {},
   "outputs": [],
   "source": [
    "comments = [s.split('\"id\":')[0] for s in my_list]"
   ]
  },
  {
   "cell_type": "code",
   "execution_count": 23,
   "metadata": {
    "scrolled": true
   },
   "outputs": [
    {
     "name": "stdout",
     "output_type": "stream",
     "text": [
      "\"Had a lovely stay in this charming home. I was visiting family who lived in the same development so the location was perfect. The bed was comfy and while I generally prefer staying in “entire home” options, I never felt like I was imposing or being imposed upon. I absolutely plan to stay here again the next time I’m in town.\",\n",
      "\"Very clean place. The host Carol is friendly and has lots of stories she likes to share.\",\n",
      "\"The host and location is very accommodating. My first time in Austin TX was very enjoyable.\",\n",
      "\"Great place to stay, safe, clean, simple, easy and a wonderful host!\",\n",
      "\"A wonderful second stay, simple, easy, and in a great neighborhood.  You are close enough to everything you might need, but a quiet and safe place away from it all!  \",\n",
      "\"Great place to stay, simple, clean, Carol is fantastic and Chalu is your ideal arranger!  Fully recommend and close enough to everything you need in Austin.   The best recommendation is returning and I'll be back - already rebooked!\",\n",
      "\"Chalu was excellent in communicating prior to the stay.  Carol, the home owner/host was amazing.  Property clean, great neighborhood, very safe.  10 minutes to downtown.  Locked ourselves out of the car downtown and Carol was so kind to bring us our spare keys near rush hour traffic time!\",\n"
     ]
    }
   ],
   "source": [
    "for e in comments:\n",
    "    print(e)"
   ]
  },
  {
   "cell_type": "code",
   "execution_count": null,
   "metadata": {},
   "outputs": [],
   "source": []
  },
  {
   "cell_type": "code",
   "execution_count": null,
   "metadata": {},
   "outputs": [],
   "source": []
  }
 ],
 "metadata": {
  "kernelspec": {
   "display_name": "Python [conda env:PythonData]",
   "language": "python",
   "name": "conda-env-PythonData-py"
  },
  "language_info": {
   "codemirror_mode": {
    "name": "ipython",
    "version": 3
   },
   "file_extension": ".py",
   "mimetype": "text/x-python",
   "name": "python",
   "nbconvert_exporter": "python",
   "pygments_lexer": "ipython3",
   "version": "3.6.4"
  }
 },
 "nbformat": 4,
 "nbformat_minor": 2
}
