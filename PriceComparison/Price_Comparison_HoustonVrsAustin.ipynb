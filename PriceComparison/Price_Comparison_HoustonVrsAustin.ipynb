{
 "cells": [
  {
   "cell_type": "code",
   "execution_count": 43,
   "metadata": {},
   "outputs": [],
   "source": [
    "import pandas as pd\n",
    "import numpy as np\n",
    "import matplotlib.pyplot as plt\n",
    "from matplotlib import style\n",
    "style.use('ggplot')"
   ]
  },
  {
   "cell_type": "code",
   "execution_count": 44,
   "metadata": {},
   "outputs": [],
   "source": [
    "# Name of the CSV file\n",
    "file = 'Airbnb_Austin_Data_Finalized.csv'\n",
    "Airbnb_Austin_df = pd.read_csv(file)"
   ]
  },
  {
   "cell_type": "code",
   "execution_count": 45,
   "metadata": {},
   "outputs": [
    {
     "data": {
      "text/html": [
       "<div>\n",
       "<style scoped>\n",
       "    .dataframe tbody tr th:only-of-type {\n",
       "        vertical-align: middle;\n",
       "    }\n",
       "\n",
       "    .dataframe tbody tr th {\n",
       "        vertical-align: top;\n",
       "    }\n",
       "\n",
       "    .dataframe thead th {\n",
       "        text-align: right;\n",
       "    }\n",
       "</style>\n",
       "<table border=\"1\" class=\"dataframe\">\n",
       "  <thead>\n",
       "    <tr style=\"text-align: right;\">\n",
       "      <th></th>\n",
       "      <th>summary</th>\n",
       "      <th>zipcode</th>\n",
       "      <th>property_type</th>\n",
       "      <th>accommodates</th>\n",
       "      <th>bedrooms</th>\n",
       "      <th>bathrooms</th>\n",
       "      <th>beds</th>\n",
       "      <th>amenities</th>\n",
       "      <th>square_feet</th>\n",
       "      <th>price</th>\n",
       "      <th>availability_365</th>\n",
       "      <th>cancellation_policy</th>\n",
       "      <th>review_scores_rating</th>\n",
       "      <th>review_scores_value</th>\n",
       "      <th>description</th>\n",
       "      <th>instant_bookable</th>\n",
       "      <th>host_verifications</th>\n",
       "    </tr>\n",
       "  </thead>\n",
       "  <tbody>\n",
       "    <tr>\n",
       "      <th>0</th>\n",
       "      <td>Conveniently located 10-15 from downtown in SW...</td>\n",
       "      <td>78749.0</td>\n",
       "      <td>House</td>\n",
       "      <td>6</td>\n",
       "      <td>1.0</td>\n",
       "      <td>2.5</td>\n",
       "      <td>3.0</td>\n",
       "      <td>{\"Cable TV\",Internet,\"Wireless Internet\",\"Air ...</td>\n",
       "      <td>3600.0</td>\n",
       "      <td>300.0</td>\n",
       "      <td>240</td>\n",
       "      <td>moderate</td>\n",
       "      <td>100.0</td>\n",
       "      <td>10.0</td>\n",
       "      <td>Conveniently located 10-15 from downtown in SW...</td>\n",
       "      <td>f</td>\n",
       "      <td>['email', 'facebook', 'linkedin', 'reviews']</td>\n",
       "    </tr>\n",
       "    <tr>\n",
       "      <th>1</th>\n",
       "      <td>Rent this cool concept trailer that has everyt...</td>\n",
       "      <td>78739.0</td>\n",
       "      <td>Camper/RV</td>\n",
       "      <td>2</td>\n",
       "      <td>1.0</td>\n",
       "      <td>0.0</td>\n",
       "      <td>1.0</td>\n",
       "      <td>{\"Air Conditioning\",Heating,\"Family/Kid Friend...</td>\n",
       "      <td>NaN</td>\n",
       "      <td>99.0</td>\n",
       "      <td>364</td>\n",
       "      <td>moderate</td>\n",
       "      <td>NaN</td>\n",
       "      <td>NaN</td>\n",
       "      <td>Rent this cool concept trailer that has everyt...</td>\n",
       "      <td>f</td>\n",
       "      <td>['email', 'phone', 'google', 'kba']</td>\n",
       "    </tr>\n",
       "    <tr>\n",
       "      <th>2</th>\n",
       "      <td>Upstairs, private, 12ft x 13 1/2ft room.  Priv...</td>\n",
       "      <td>78739.0</td>\n",
       "      <td>House</td>\n",
       "      <td>2</td>\n",
       "      <td>1.0</td>\n",
       "      <td>1.5</td>\n",
       "      <td>1.0</td>\n",
       "      <td>{TV,\"Cable TV\",Internet,\"Wireless Internet\",\"A...</td>\n",
       "      <td>NaN</td>\n",
       "      <td>100.0</td>\n",
       "      <td>365</td>\n",
       "      <td>flexible</td>\n",
       "      <td>NaN</td>\n",
       "      <td>NaN</td>\n",
       "      <td>Upstairs, private, 12ft x 13 1/2ft room.  Priv...</td>\n",
       "      <td>f</td>\n",
       "      <td>['email', 'phone', 'linkedin', 'jumio']</td>\n",
       "    </tr>\n",
       "    <tr>\n",
       "      <th>3</th>\n",
       "      <td>Upstairs, private, 11ft x 13 1/2ft room.  Priv...</td>\n",
       "      <td>78739.0</td>\n",
       "      <td>House</td>\n",
       "      <td>2</td>\n",
       "      <td>1.0</td>\n",
       "      <td>1.5</td>\n",
       "      <td>1.0</td>\n",
       "      <td>{TV,\"Cable TV\",Internet,\"Wireless Internet\",\"A...</td>\n",
       "      <td>NaN</td>\n",
       "      <td>100.0</td>\n",
       "      <td>365</td>\n",
       "      <td>flexible</td>\n",
       "      <td>NaN</td>\n",
       "      <td>NaN</td>\n",
       "      <td>Upstairs, private, 11ft x 13 1/2ft room.  Priv...</td>\n",
       "      <td>f</td>\n",
       "      <td>['email', 'phone', 'linkedin', 'jumio']</td>\n",
       "    </tr>\n",
       "    <tr>\n",
       "      <th>4</th>\n",
       "      <td>Brand-new 3BR/2BA Austin home with landscaped ...</td>\n",
       "      <td>78739.0</td>\n",
       "      <td>House</td>\n",
       "      <td>6</td>\n",
       "      <td>3.0</td>\n",
       "      <td>2.0</td>\n",
       "      <td>3.0</td>\n",
       "      <td>{TV,\"Cable TV\",Internet,\"Wireless Internet\",\"A...</td>\n",
       "      <td>NaN</td>\n",
       "      <td>599.0</td>\n",
       "      <td>358</td>\n",
       "      <td>strict</td>\n",
       "      <td>NaN</td>\n",
       "      <td>NaN</td>\n",
       "      <td>Brand-new 3BR/2BA Austin home with landscaped ...</td>\n",
       "      <td>f</td>\n",
       "      <td>['email', 'phone', 'linkedin', 'reviews', 'jum...</td>\n",
       "    </tr>\n",
       "  </tbody>\n",
       "</table>\n",
       "</div>"
      ],
      "text/plain": [
       "                                             summary  zipcode property_type  \\\n",
       "0  Conveniently located 10-15 from downtown in SW...  78749.0         House   \n",
       "1  Rent this cool concept trailer that has everyt...  78739.0     Camper/RV   \n",
       "2  Upstairs, private, 12ft x 13 1/2ft room.  Priv...  78739.0         House   \n",
       "3  Upstairs, private, 11ft x 13 1/2ft room.  Priv...  78739.0         House   \n",
       "4  Brand-new 3BR/2BA Austin home with landscaped ...  78739.0         House   \n",
       "\n",
       "   accommodates  bedrooms  bathrooms  beds  \\\n",
       "0             6       1.0        2.5   3.0   \n",
       "1             2       1.0        0.0   1.0   \n",
       "2             2       1.0        1.5   1.0   \n",
       "3             2       1.0        1.5   1.0   \n",
       "4             6       3.0        2.0   3.0   \n",
       "\n",
       "                                           amenities  square_feet  price  \\\n",
       "0  {\"Cable TV\",Internet,\"Wireless Internet\",\"Air ...       3600.0  300.0   \n",
       "1  {\"Air Conditioning\",Heating,\"Family/Kid Friend...          NaN   99.0   \n",
       "2  {TV,\"Cable TV\",Internet,\"Wireless Internet\",\"A...          NaN  100.0   \n",
       "3  {TV,\"Cable TV\",Internet,\"Wireless Internet\",\"A...          NaN  100.0   \n",
       "4  {TV,\"Cable TV\",Internet,\"Wireless Internet\",\"A...          NaN  599.0   \n",
       "\n",
       "   availability_365 cancellation_policy  review_scores_rating  \\\n",
       "0               240            moderate                 100.0   \n",
       "1               364            moderate                   NaN   \n",
       "2               365            flexible                   NaN   \n",
       "3               365            flexible                   NaN   \n",
       "4               358              strict                   NaN   \n",
       "\n",
       "   review_scores_value                                        description  \\\n",
       "0                 10.0  Conveniently located 10-15 from downtown in SW...   \n",
       "1                  NaN  Rent this cool concept trailer that has everyt...   \n",
       "2                  NaN  Upstairs, private, 12ft x 13 1/2ft room.  Priv...   \n",
       "3                  NaN  Upstairs, private, 11ft x 13 1/2ft room.  Priv...   \n",
       "4                  NaN  Brand-new 3BR/2BA Austin home with landscaped ...   \n",
       "\n",
       "  instant_bookable                                 host_verifications  \n",
       "0                f       ['email', 'facebook', 'linkedin', 'reviews']  \n",
       "1                f                ['email', 'phone', 'google', 'kba']  \n",
       "2                f            ['email', 'phone', 'linkedin', 'jumio']  \n",
       "3                f            ['email', 'phone', 'linkedin', 'jumio']  \n",
       "4                f  ['email', 'phone', 'linkedin', 'reviews', 'jum...  "
      ]
     },
     "execution_count": 45,
     "metadata": {},
     "output_type": "execute_result"
    }
   ],
   "source": [
    "Airbnb_Austin_df.head()"
   ]
  },
  {
   "cell_type": "code",
   "execution_count": 46,
   "metadata": {},
   "outputs": [
    {
     "data": {
      "text/plain": [
       "286.182176520994"
      ]
     },
     "execution_count": 46,
     "metadata": {},
     "output_type": "execute_result"
    }
   ],
   "source": [
    "Airbnb_Austin_df['price'].mean()"
   ]
  },
  {
   "cell_type": "code",
   "execution_count": 47,
   "metadata": {},
   "outputs": [
    {
     "data": {
      "text/plain": [
       "175.0"
      ]
     },
     "execution_count": 47,
     "metadata": {},
     "output_type": "execute_result"
    }
   ],
   "source": [
    "Airbnb_Austin_df['price'].median()"
   ]
  },
  {
   "cell_type": "code",
   "execution_count": 56,
   "metadata": {},
   "outputs": [
    {
     "data": {
      "image/png": "[encoded data removed]",
      "text/plain": [
       "<matplotlib.figure.Figure at 0x11536a668>"
      ]
     },
     "metadata": {},
     "output_type": "display_data"
    }
   ],
   "source": [
    "Airbnb_Austin_df['price'].hist(bins=10, range=(1,1000), color = 'aqua', edgecolor = \"Black\")\n",
    "plt.title(\"Austin Prices\")\n",
    "plt.xlabel(\"Prices\")\n",
    "plt.ylabel(\"# of Properties in Price\")\n",
    "plt.savefig(\"Austin_Prices.png\")"
   ]
  },
  {
   "cell_type": "code",
   "execution_count": 49,
   "metadata": {},
   "outputs": [],
   "source": [
    "# Name of the CSV file\n",
    "fileH = 'Airbnb_Houston.csv'\n",
    "Airbnb_Houston_df = pd.read_csv(fileH)"
   ]
  },
  {
   "cell_type": "code",
   "execution_count": 50,
   "metadata": {},
   "outputs": [
    {
     "data": {
      "text/html": [
       "<div>\n",
       "<style scoped>\n",
       "    .dataframe tbody tr th:only-of-type {\n",
       "        vertical-align: middle;\n",
       "    }\n",
       "\n",
       "    .dataframe tbody tr th {\n",
       "        vertical-align: top;\n",
       "    }\n",
       "\n",
       "    .dataframe thead th {\n",
       "        text-align: right;\n",
       "    }\n",
       "</style>\n",
       "<table border=\"1\" class=\"dataframe\">\n",
       "  <thead>\n",
       "    <tr style=\"text-align: right;\">\n",
       "      <th></th>\n",
       "      <th>room_id</th>\n",
       "      <th>survey_id</th>\n",
       "      <th>host_id</th>\n",
       "      <th>room_type</th>\n",
       "      <th>country</th>\n",
       "      <th>city</th>\n",
       "      <th>borough</th>\n",
       "      <th>neighborhood</th>\n",
       "      <th>reviews</th>\n",
       "      <th>overall_satisfaction</th>\n",
       "      <th>accommodates</th>\n",
       "      <th>bedrooms</th>\n",
       "      <th>bathrooms</th>\n",
       "      <th>price</th>\n",
       "      <th>minstay</th>\n",
       "      <th>name</th>\n",
       "      <th>last_modified</th>\n",
       "      <th>latitude</th>\n",
       "      <th>longitude</th>\n",
       "      <th>location</th>\n",
       "    </tr>\n",
       "  </thead>\n",
       "  <tbody>\n",
       "    <tr>\n",
       "      <th>0</th>\n",
       "      <td>10116505</td>\n",
       "      <td>1440</td>\n",
       "      <td>19626693</td>\n",
       "      <td>Shared room</td>\n",
       "      <td>NaN</td>\n",
       "      <td>Houston</td>\n",
       "      <td>NaN</td>\n",
       "      <td>WESTBURY</td>\n",
       "      <td>0</td>\n",
       "      <td>0.0</td>\n",
       "      <td>1</td>\n",
       "      <td>1.0</td>\n",
       "      <td>NaN</td>\n",
       "      <td>50.0</td>\n",
       "      <td>NaN</td>\n",
       "      <td>Cozy daybed near Houston TMC/DT</td>\n",
       "      <td>2017-07-13 20:03:19.424320</td>\n",
       "      <td>29.650926</td>\n",
       "      <td>-95.489815</td>\n",
       "      <td>0101000020E6100000C685032159DF57C0B81D1A16A3A6...</td>\n",
       "    </tr>\n",
       "    <tr>\n",
       "      <th>1</th>\n",
       "      <td>13452754</td>\n",
       "      <td>1440</td>\n",
       "      <td>69984222</td>\n",
       "      <td>Shared room</td>\n",
       "      <td>NaN</td>\n",
       "      <td>Houston</td>\n",
       "      <td>NaN</td>\n",
       "      <td>ASTRODOME AREA</td>\n",
       "      <td>1</td>\n",
       "      <td>0.0</td>\n",
       "      <td>4</td>\n",
       "      <td>1.0</td>\n",
       "      <td>NaN</td>\n",
       "      <td>50.0</td>\n",
       "      <td>NaN</td>\n",
       "      <td>Private Room- Male - Medical Center</td>\n",
       "      <td>2017-07-13 20:03:19.421656</td>\n",
       "      <td>29.699664</td>\n",
       "      <td>-95.406653</td>\n",
       "      <td>0101000020E610000080F44D9A06DA57C044300E2E1DB3...</td>\n",
       "    </tr>\n",
       "    <tr>\n",
       "      <th>2</th>\n",
       "      <td>17024031</td>\n",
       "      <td>1440</td>\n",
       "      <td>97097183</td>\n",
       "      <td>Shared room</td>\n",
       "      <td>NaN</td>\n",
       "      <td>Houston</td>\n",
       "      <td>NaN</td>\n",
       "      <td>UNIVERSITY PLACE</td>\n",
       "      <td>0</td>\n",
       "      <td>0.0</td>\n",
       "      <td>2</td>\n",
       "      <td>1.0</td>\n",
       "      <td>NaN</td>\n",
       "      <td>50.0</td>\n",
       "      <td>NaN</td>\n",
       "      <td>Walk to NRG Stadium, Medical Center, Free Shut...</td>\n",
       "      <td>2017-07-13 20:03:19.417574</td>\n",
       "      <td>29.706953</td>\n",
       "      <td>-95.417258</td>\n",
       "      <td>0101000020E6100000A4FFE55AB4DA57C020CF2EDFFAB4...</td>\n",
       "    </tr>\n",
       "    <tr>\n",
       "      <th>3</th>\n",
       "      <td>13189578</td>\n",
       "      <td>1440</td>\n",
       "      <td>73813079</td>\n",
       "      <td>Shared room</td>\n",
       "      <td>NaN</td>\n",
       "      <td>Houston</td>\n",
       "      <td>NaN</td>\n",
       "      <td>NEARTOWN - MONTROSE</td>\n",
       "      <td>2</td>\n",
       "      <td>0.0</td>\n",
       "      <td>1</td>\n",
       "      <td>1.0</td>\n",
       "      <td>NaN</td>\n",
       "      <td>50.0</td>\n",
       "      <td>NaN</td>\n",
       "      <td>The Castle</td>\n",
       "      <td>2017-07-13 20:03:19.414701</td>\n",
       "      <td>29.732720</td>\n",
       "      <td>-95.398164</td>\n",
       "      <td>0101000020E6100000739CDB847BD957C00820B58993BB...</td>\n",
       "    </tr>\n",
       "    <tr>\n",
       "      <th>4</th>\n",
       "      <td>11718522</td>\n",
       "      <td>1440</td>\n",
       "      <td>62309978</td>\n",
       "      <td>Shared room</td>\n",
       "      <td>NaN</td>\n",
       "      <td>Houston</td>\n",
       "      <td>NaN</td>\n",
       "      <td>SPRING BRANCH CENTRAL</td>\n",
       "      <td>0</td>\n",
       "      <td>0.0</td>\n",
       "      <td>2</td>\n",
       "      <td>1.0</td>\n",
       "      <td>NaN</td>\n",
       "      <td>55.0</td>\n",
       "      <td>NaN</td>\n",
       "      <td>Spot in Houston</td>\n",
       "      <td>2017-07-13 20:03:19.409616</td>\n",
       "      <td>29.808814</td>\n",
       "      <td>-95.509575</td>\n",
       "      <td>0101000020E6100000FDF675E09CE057C0058C2E6F0ECF...</td>\n",
       "    </tr>\n",
       "  </tbody>\n",
       "</table>\n",
       "</div>"
      ],
      "text/plain": [
       "    room_id  survey_id   host_id    room_type  country     city  borough  \\\n",
       "0  10116505       1440  19626693  Shared room      NaN  Houston      NaN   \n",
       "1  13452754       1440  69984222  Shared room      NaN  Houston      NaN   \n",
       "2  17024031       1440  97097183  Shared room      NaN  Houston      NaN   \n",
       "3  13189578       1440  73813079  Shared room      NaN  Houston      NaN   \n",
       "4  11718522       1440  62309978  Shared room      NaN  Houston      NaN   \n",
       "\n",
       "            neighborhood  reviews  overall_satisfaction  accommodates  \\\n",
       "0               WESTBURY        0                   0.0             1   \n",
       "1         ASTRODOME AREA        1                   0.0             4   \n",
       "2       UNIVERSITY PLACE        0                   0.0             2   \n",
       "3    NEARTOWN - MONTROSE        2                   0.0             1   \n",
       "4  SPRING BRANCH CENTRAL        0                   0.0             2   \n",
       "\n",
       "   bedrooms  bathrooms  price  minstay  \\\n",
       "0       1.0        NaN   50.0      NaN   \n",
       "1       1.0        NaN   50.0      NaN   \n",
       "2       1.0        NaN   50.0      NaN   \n",
       "3       1.0        NaN   50.0      NaN   \n",
       "4       1.0        NaN   55.0      NaN   \n",
       "\n",
       "                                                name  \\\n",
       "0                    Cozy daybed near Houston TMC/DT   \n",
       "1                Private Room- Male - Medical Center   \n",
       "2  Walk to NRG Stadium, Medical Center, Free Shut...   \n",
       "3                                         The Castle   \n",
       "4                                    Spot in Houston   \n",
       "\n",
       "                last_modified   latitude  longitude  \\\n",
       "0  2017-07-13 20:03:19.424320  29.650926 -95.489815   \n",
       "1  2017-07-13 20:03:19.421656  29.699664 -95.406653   \n",
       "2  2017-07-13 20:03:19.417574  29.706953 -95.417258   \n",
       "3  2017-07-13 20:03:19.414701  29.732720 -95.398164   \n",
       "4  2017-07-13 20:03:19.409616  29.808814 -95.509575   \n",
       "\n",
       "                                            location  \n",
       "0  0101000020E6100000C685032159DF57C0B81D1A16A3A6...  \n",
       "1  0101000020E610000080F44D9A06DA57C044300E2E1DB3...  \n",
       "2  0101000020E6100000A4FFE55AB4DA57C020CF2EDFFAB4...  \n",
       "3  0101000020E6100000739CDB847BD957C00820B58993BB...  \n",
       "4  0101000020E6100000FDF675E09CE057C0058C2E6F0ECF...  "
      ]
     },
     "execution_count": 50,
     "metadata": {},
     "output_type": "execute_result"
    }
   ],
   "source": [
    "Airbnb_Houston_df.head()"
   ]
  },
  {
   "cell_type": "code",
   "execution_count": 51,
   "metadata": {},
   "outputs": [
    {
     "data": {
      "text/plain": [
       "room_type\n",
       "Entire home/apt    350.0\n",
       "Private room        55.0\n",
       "Shared room         35.0\n",
       "Name: price, dtype: float64"
      ]
     },
     "execution_count": 51,
     "metadata": {},
     "output_type": "execute_result"
    }
   ],
   "source": [
    "Houston_property_type_DF = Airbnb_Houston_df.groupby('room_type').median()\n",
    "\n",
    "Houston_property_type_DF.loc[:,'price']"
   ]
  },
  {
   "cell_type": "code",
   "execution_count": 52,
   "metadata": {},
   "outputs": [
    {
     "data": {
      "text/plain": [
       "146.66666666666666"
      ]
     },
     "execution_count": 52,
     "metadata": {},
     "output_type": "execute_result"
    }
   ],
   "source": [
    "Houston_property_type_DF['price'].mean()"
   ]
  },
  {
   "cell_type": "code",
   "execution_count": 53,
   "metadata": {},
   "outputs": [
    {
     "data": {
      "text/plain": [
       "Text(0,0.5,'# of Properties in Price')"
      ]
     },
     "execution_count": 53,
     "metadata": {},
     "output_type": "execute_result"
    },
    {
     "data": {
      "image/png": "[encoded data removed]",
      "text/plain": [
       "<matplotlib.figure.Figure at 0x114a1c4e0>"
      ]
     },
     "metadata": {},
     "output_type": "display_data"
    }
   ],
   "source": [
    "Airbnb_Houston_df['price'].hist(bins=10, range=(1,1000),color = 'r',edgecolor = \"black\")\n",
    "plt.title(\"Houston Prices\")\n",
    "plt.xlabel(\"Prices\")\n",
    "plt.ylabel(\"# of Properties in Price\")"
   ]
  },
  {
   "cell_type": "code",
   "execution_count": 54,
   "metadata": {},
   "outputs": [
    {
     "data": {
      "text/plain": [
       "Text(0,0.5,'Mean Price')"
      ]
     },
     "execution_count": 54,
     "metadata": {},
     "output_type": "execute_result"
    },
    {
     "data": {
      "image/png": "[encoded data removed]",
      "text/plain": [
       "<matplotlib.figure.Figure at 0x114fd3710>"
      ]
     },
     "metadata": {},
     "output_type": "display_data"
    }
   ],
   "source": [
    "x_axis = np.arange(0,2)\n",
    "Austin_x_axis = np.arange(0,1)\n",
    "plt.bar(Austin_x_axis, Airbnb_Austin_df['price'].mean(), color='aqua',label = \"Austin\",edgecolor= \"black\")\n",
    "Houston_x_axis = np.arange(1,2)\n",
    "plt.bar(Houston_x_axis, Houston_property_type_DF['price'].mean(), color='r',label = \"Houston\", edgecolor = \"black\")\n",
    "tick_locations = [value for value in x_axis]\n",
    "plt.xticks(tick_locations, [\"Austin\", \"Houston\"])\n",
    "plt.title(\"Mean Price Comparison between Austin and Houston\")\n",
    "plt.xlabel(\"City\")\n",
    "plt.ylabel(\"Mean Price\")"
   ]
  },
  {
   "cell_type": "code",
   "execution_count": 55,
   "metadata": {},
   "outputs": [
    {
     "data": {
      "text/plain": [
       "Text(0,0.5,'Median Price')"
      ]
     },
     "execution_count": 55,
     "metadata": {},
     "output_type": "execute_result"
    },
    {
     "data": {
      "image/png": "[encoded data removed]",
      "text/plain": [
       "<matplotlib.figure.Figure at 0x11503a6d8>"
      ]
     },
     "metadata": {},
     "output_type": "display_data"
    }
   ],
   "source": [
    "x_axis = np.arange(0,2)\n",
    "Austin_x_axis = np.arange(0,1)\n",
    "plt.bar(Austin_x_axis, Airbnb_Austin_df['price'].median(), color='lightgreen',label = \"Austin\",edgecolor= \"black\")\n",
    "Houston_x_axis = np.arange(1,2)\n",
    "plt.bar(Houston_x_axis, Houston_property_type_DF['price'].median(), color='pink',label = \"Houston\", edgecolor = \"black\")\n",
    "tick_locations = [value for value in x_axis]\n",
    "plt.xticks(tick_locations, [\"Austin\", \"Houston\"])\n",
    "plt.title(\"Median Price Comparison between Austin and Houston\")\n",
    "plt.xlabel(\"City\")\n",
    "plt.ylabel(\"Median Price\")"
   ]
  },
  {
   "cell_type": "code",
   "execution_count": null,
   "metadata": {},
   "outputs": [],
   "source": []
  }
 ],
 "metadata": {
  "kernelspec": {
   "display_name": "Python [conda env:PythonData]",
   "language": "python",
   "name": "conda-env-PythonData-py"
  },
  "language_info": {
   "codemirror_mode": {
    "name": "ipython",
    "version": 3
   },
   "file_extension": ".py",
   "mimetype": "text/x-python",
   "name": "python",
   "nbconvert_exporter": "python",
   "pygments_lexer": "ipython3",
   "version": "3.6.4"
  }
 },
 "nbformat": 4,
 "nbformat_minor": 2
}
