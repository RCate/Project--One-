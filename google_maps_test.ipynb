{
 "cells": [
  {
   "cell_type": "code",
   "execution_count": 37,
   "metadata": {},
   "outputs": [],
   "source": [
    "import gmaps\n",
    "import gmaps.datasets\n",
    "import numpy as np\n",
    "import requests\n",
    "import json\n",
    "import pandas as pd\n",
    "import base64"
   ]
  },
  {
   "cell_type": "code",
   "execution_count": 38,
   "metadata": {},
   "outputs": [],
   "source": [
    "from test_environment_Homeaway import google_api_key"
   ]
  },
  {
   "cell_type": "code",
   "execution_count": 53,
   "metadata": {},
   "outputs": [],
   "source": [
    "# Importing csv file which has all of the airbnb data from data world.\n",
    "air = pd.read_csv(\"Airbnb_Texas_Rentals.csv\")"
   ]
  },
  {
   "cell_type": "code",
   "execution_count": 40,
   "metadata": {
    "scrolled": true
   },
   "outputs": [
    {
     "data": {
      "text/html": [
       "<div>\n",
       "<style scoped>\n",
       "    .dataframe tbody tr th:only-of-type {\n",
       "        vertical-align: middle;\n",
       "    }\n",
       "\n",
       "    .dataframe tbody tr th {\n",
       "        vertical-align: top;\n",
       "    }\n",
       "\n",
       "    .dataframe thead th {\n",
       "        text-align: right;\n",
       "    }\n",
       "</style>\n",
       "<table border=\"1\" class=\"dataframe\">\n",
       "  <thead>\n",
       "    <tr style=\"text-align: right;\">\n",
       "      <th></th>\n",
       "      <th>Unnamed: 0</th>\n",
       "      <th>average_rate_per_night</th>\n",
       "      <th>bedrooms_count</th>\n",
       "      <th>city</th>\n",
       "      <th>date_of_listing</th>\n",
       "      <th>description</th>\n",
       "      <th>latitude</th>\n",
       "      <th>longitude</th>\n",
       "      <th>title</th>\n",
       "      <th>url</th>\n",
       "    </tr>\n",
       "  </thead>\n",
       "  <tbody>\n",
       "    <tr>\n",
       "      <th>0</th>\n",
       "      <td>1</td>\n",
       "      <td>$27</td>\n",
       "      <td>2</td>\n",
       "      <td>Humble</td>\n",
       "      <td>May 2016</td>\n",
       "      <td>Welcome to stay in private room with queen bed...</td>\n",
       "      <td>30.020138</td>\n",
       "      <td>-95.293996</td>\n",
       "      <td>2 Private rooms/bathroom 10min from IAH airport</td>\n",
       "      <td>https://www.airbnb.com/rooms/18520444?location...</td>\n",
       "    </tr>\n",
       "    <tr>\n",
       "      <th>1</th>\n",
       "      <td>2</td>\n",
       "      <td>$149</td>\n",
       "      <td>4</td>\n",
       "      <td>San Antonio</td>\n",
       "      <td>November 2010</td>\n",
       "      <td>Stylish, fully remodeled home in upscale NW – ...</td>\n",
       "      <td>29.503068</td>\n",
       "      <td>-98.447688</td>\n",
       "      <td>Unique Location! Alamo Heights - Designer Insp...</td>\n",
       "      <td>https://www.airbnb.com/rooms/17481455?location...</td>\n",
       "    </tr>\n",
       "    <tr>\n",
       "      <th>2</th>\n",
       "      <td>3</td>\n",
       "      <td>$59</td>\n",
       "      <td>1</td>\n",
       "      <td>Houston</td>\n",
       "      <td>January 2017</td>\n",
       "      <td>'River house on island close to the city' \\nA ...</td>\n",
       "      <td>29.829352</td>\n",
       "      <td>-95.081549</td>\n",
       "      <td>River house near the city</td>\n",
       "      <td>https://www.airbnb.com/rooms/16926307?location...</td>\n",
       "    </tr>\n",
       "  </tbody>\n",
       "</table>\n",
       "</div>"
      ],
      "text/plain": [
       "   Unnamed: 0 average_rate_per_night bedrooms_count         city  \\\n",
       "0           1                    $27              2       Humble   \n",
       "1           2                   $149              4  San Antonio   \n",
       "2           3                    $59              1      Houston   \n",
       "\n",
       "  date_of_listing                                        description  \\\n",
       "0        May 2016  Welcome to stay in private room with queen bed...   \n",
       "1   November 2010  Stylish, fully remodeled home in upscale NW – ...   \n",
       "2    January 2017  'River house on island close to the city' \\nA ...   \n",
       "\n",
       "    latitude  longitude                                              title  \\\n",
       "0  30.020138 -95.293996    2 Private rooms/bathroom 10min from IAH airport   \n",
       "1  29.503068 -98.447688  Unique Location! Alamo Heights - Designer Insp...   \n",
       "2  29.829352 -95.081549                          River house near the city   \n",
       "\n",
       "                                                 url  \n",
       "0  https://www.airbnb.com/rooms/18520444?location...  \n",
       "1  https://www.airbnb.com/rooms/17481455?location...  \n",
       "2  https://www.airbnb.com/rooms/16926307?location...  "
      ]
     },
     "execution_count": 40,
     "metadata": {},
     "output_type": "execute_result"
    }
   ],
   "source": [
    "air.head(3)"
   ]
  },
  {
   "cell_type": "code",
   "execution_count": 41,
   "metadata": {},
   "outputs": [
    {
     "data": {
      "text/plain": [
       "(array([   25,    25,    25,   103,   103,   103,   104,   104,   104,\n",
       "          105,   105,   105,   167,   167,   167,   168,   168,   169,\n",
       "          169,   169,   170,   170,   170,   171,   171,   171,   172,\n",
       "          172,   172,   174,   174,   175,   175,   177,   177,   177,\n",
       "          179,   179,   179,   180,   180,   180,   181,   181,   181,\n",
       "          342,   342,   342,   343,   343,   343,   344,   344,   344,\n",
       "          345,   345,   346,   346,   346,   362,   362,   362,   408,\n",
       "          866,   866,   866,   867,   867,   867,   877,   877,   947,\n",
       "          947,   947,   954,   954,  1120,  1120,  1120,  1122,  1122,\n",
       "         1122,  1214,  1214,  1214,  1216,  1216,  1216,  1217,  1217,\n",
       "         1217,  1218,  1218,  1218,  1219,  1219,  1219,  3849,  6875,\n",
       "         7501,  9296, 14237, 16811, 17186]),\n",
       " array([1, 6, 7, 1, 6, 7, 1, 6, 7, 1, 6, 7, 1, 6, 7, 6, 7, 1, 6, 7, 1, 6,\n",
       "        7, 1, 6, 7, 1, 6, 7, 6, 7, 6, 7, 1, 6, 7, 1, 6, 7, 1, 6, 7, 1, 6,\n",
       "        7, 1, 6, 7, 1, 6, 7, 1, 6, 7, 6, 7, 1, 6, 7, 1, 6, 7, 5, 1, 6, 7,\n",
       "        1, 6, 7, 6, 7, 1, 6, 7, 6, 7, 1, 6, 7, 1, 6, 7, 1, 6, 7, 1, 6, 7,\n",
       "        1, 6, 7, 1, 6, 7, 1, 6, 7, 8, 2, 8, 8, 2, 2, 5]))"
      ]
     },
     "execution_count": 41,
     "metadata": {},
     "output_type": "execute_result"
    }
   ],
   "source": [
    "# Looking for all of the Nan data \n",
    "np.where(pd.isnull(air))"
   ]
  },
  {
   "cell_type": "code",
   "execution_count": 42,
   "metadata": {},
   "outputs": [],
   "source": [
    "# Deleting all of the nan data for the columns that are needed for google maps\n",
    "air.dropna(subset=['latitude'], inplace=True)\n",
    "air.dropna(subset=['longitude'], inplace=True)"
   ]
  },
  {
   "cell_type": "code",
   "execution_count": 43,
   "metadata": {},
   "outputs": [],
   "source": [
    "# Removing the $ sign from the average rate column and adding a new column without it\n",
    "air[\"average_rate_per_night_float\"] = air[\"average_rate_per_night\"].str.replace('$', '')"
   ]
  },
  {
   "cell_type": "code",
   "execution_count": 44,
   "metadata": {},
   "outputs": [],
   "source": [
    "# Turning just the major city listings into a dataframe\n",
    "austin = air[air[\"city\"]==\"Austin\"]\n",
    "sanantonio = air[air[\"city\"]==\"San Antonio\"]\n",
    "houston = air[air[\"city\"]==\"Houston\"]\n",
    "dallas = air[air[\"city\"]==\"Dallas\"]\n",
    "fortworth = air[air[\"city\"]==\"Fort Worth\"]\n",
    "corpus = air[air[\"city\"]==\"Corpus Christi\"]\n",
    "nb = air[air[\"city\"]==\"New Braunfels\"]\n"
   ]
  },
  {
   "cell_type": "code",
   "execution_count": 45,
   "metadata": {},
   "outputs": [
    {
     "data": {
      "text/html": [
       "<div>\n",
       "<style scoped>\n",
       "    .dataframe tbody tr th:only-of-type {\n",
       "        vertical-align: middle;\n",
       "    }\n",
       "\n",
       "    .dataframe tbody tr th {\n",
       "        vertical-align: top;\n",
       "    }\n",
       "\n",
       "    .dataframe thead th {\n",
       "        text-align: right;\n",
       "    }\n",
       "</style>\n",
       "<table border=\"1\" class=\"dataframe\">\n",
       "  <thead>\n",
       "    <tr style=\"text-align: right;\">\n",
       "      <th></th>\n",
       "      <th>Unnamed: 0</th>\n",
       "      <th>average_rate_per_night</th>\n",
       "      <th>bedrooms_count</th>\n",
       "      <th>city</th>\n",
       "      <th>date_of_listing</th>\n",
       "      <th>description</th>\n",
       "      <th>latitude</th>\n",
       "      <th>longitude</th>\n",
       "      <th>title</th>\n",
       "      <th>url</th>\n",
       "      <th>average_rate_per_night_float</th>\n",
       "    </tr>\n",
       "  </thead>\n",
       "  <tbody>\n",
       "    <tr>\n",
       "      <th>16</th>\n",
       "      <td>17</td>\n",
       "      <td>$82</td>\n",
       "      <td>2</td>\n",
       "      <td>Austin</td>\n",
       "      <td>December 2015</td>\n",
       "      <td>Cute two bedroom with lots of windows, sunny b...</td>\n",
       "      <td>30.309522</td>\n",
       "      <td>-97.731710</td>\n",
       "      <td>Cosy 2 Bedroom in Hyde Park!</td>\n",
       "      <td>https://www.airbnb.com/rooms/18550276?location...</td>\n",
       "      <td>82</td>\n",
       "    </tr>\n",
       "    <tr>\n",
       "      <th>28</th>\n",
       "      <td>29</td>\n",
       "      <td>$110</td>\n",
       "      <td>1</td>\n",
       "      <td>Austin</td>\n",
       "      <td>September 2015</td>\n",
       "      <td>Comfortable Traditional Interior Furniture in ...</td>\n",
       "      <td>30.244296</td>\n",
       "      <td>-97.774469</td>\n",
       "      <td>Fabulous Central Austin Condo!</td>\n",
       "      <td>https://www.airbnb.com/rooms/13571814?location...</td>\n",
       "      <td>110</td>\n",
       "    </tr>\n",
       "    <tr>\n",
       "      <th>33</th>\n",
       "      <td>34</td>\n",
       "      <td>$119</td>\n",
       "      <td>1</td>\n",
       "      <td>Austin</td>\n",
       "      <td>August 2010</td>\n",
       "      <td>Just minutes from Austin's main attractions, e...</td>\n",
       "      <td>30.300382</td>\n",
       "      <td>-97.778858</td>\n",
       "      <td>Sunny Central Austin Apartment</td>\n",
       "      <td>https://www.airbnb.com/rooms/46929?location=Co...</td>\n",
       "      <td>119</td>\n",
       "    </tr>\n",
       "  </tbody>\n",
       "</table>\n",
       "</div>"
      ],
      "text/plain": [
       "    Unnamed: 0 average_rate_per_night bedrooms_count    city date_of_listing  \\\n",
       "16          17                    $82              2  Austin   December 2015   \n",
       "28          29                   $110              1  Austin  September 2015   \n",
       "33          34                   $119              1  Austin     August 2010   \n",
       "\n",
       "                                          description   latitude  longitude  \\\n",
       "16  Cute two bedroom with lots of windows, sunny b...  30.309522 -97.731710   \n",
       "28  Comfortable Traditional Interior Furniture in ...  30.244296 -97.774469   \n",
       "33  Just minutes from Austin's main attractions, e...  30.300382 -97.778858   \n",
       "\n",
       "                             title  \\\n",
       "16    Cosy 2 Bedroom in Hyde Park!   \n",
       "28  Fabulous Central Austin Condo!   \n",
       "33  Sunny Central Austin Apartment   \n",
       "\n",
       "                                                  url  \\\n",
       "16  https://www.airbnb.com/rooms/18550276?location...   \n",
       "28  https://www.airbnb.com/rooms/13571814?location...   \n",
       "33  https://www.airbnb.com/rooms/46929?location=Co...   \n",
       "\n",
       "   average_rate_per_night_float  \n",
       "16                           82  \n",
       "28                          110  \n",
       "33                          119  "
      ]
     },
     "execution_count": 45,
     "metadata": {},
     "output_type": "execute_result"
    }
   ],
   "source": [
    "austin.head(3)"
   ]
  },
  {
   "cell_type": "code",
   "execution_count": 46,
   "metadata": {},
   "outputs": [],
   "source": [
    "gmaps.configure(api_key=google_api_key)"
   ]
  },
  {
   "cell_type": "code",
   "execution_count": 47,
   "metadata": {},
   "outputs": [
    {
     "name": "stderr",
     "output_type": "stream",
     "text": [
      "/anaconda3/envs/PythonData/lib/python3.6/site-packages/ipykernel/__main__.py:2: SettingWithCopyWarning: \n",
      "A value is trying to be set on a copy of a slice from a DataFrame.\n",
      "Try using .loc[row_indexer,col_indexer] = value instead\n",
      "\n",
      "See the caveats in the documentation: http://pandas.pydata.org/pandas-docs/stable/indexing.html#indexing-view-versus-copy\n",
      "  from ipykernel import kernelapp as app\n"
     ]
    }
   ],
   "source": [
    "# Adding a new average rate column without the evil $ sign\n",
    "austin[\"average_rate_per_night_float\"] = austin[\"average_rate_per_night\"].str.replace('$', '')"
   ]
  },
  {
   "cell_type": "code",
   "execution_count": 48,
   "metadata": {},
   "outputs": [],
   "source": [
    "# Giving the gmaps function a float column to work with\n",
    "weights = austin['average_rate_per_night_float'].astype(\"float\")"
   ]
  },
  {
   "cell_type": "code",
   "execution_count": 50,
   "metadata": {},
   "outputs": [
    {
     "data": {
      "application/vnd.jupyter.widget-view+json": {
       "model_id": "d525fcf127e44da7a2f50ace0c419a0c",
       "version_major": 2,
       "version_minor": 0
      },
      "text/html": [
       "<p>Failed to display Jupyter Widget of type <code>Figure</code>.</p>\n",
       "<p>\n",
       "  If you're reading this message in the Jupyter Notebook or JupyterLab Notebook, it may mean\n",
       "  that the widgets JavaScript is still loading. If this message persists, it\n",
       "  likely means that the widgets JavaScript library is either not installed or\n",
       "  not enabled. See the <a href=\"https://ipywidgets.readthedocs.io/en/stable/user_install.html\">Jupyter\n",
       "  Widgets Documentation</a> for setup instructions.\n",
       "</p>\n",
       "<p>\n",
       "  If you're reading this message in another frontend (for example, a static\n",
       "  rendering on GitHub or <a href=\"https://nbviewer.jupyter.org/\">NBViewer</a>),\n",
       "  it may mean that your frontend doesn't currently support widgets.\n",
       "</p>\n"
      ],
      "text/plain": [
       "Figure(layout=FigureLayout(height='420px'))"
      ]
     },
     "metadata": {},
     "output_type": "display_data"
    }
   ],
   "source": [
    "locations = austin[['latitude', 'longitude']]\n",
    "fig = gmaps.figure()\n",
    "fig.add_layer(gmaps.heatmap_layer(locations, weights=weights))\n",
    "fig"
   ]
  },
  {
   "cell_type": "code",
   "execution_count": 52,
   "metadata": {},
   "outputs": [
    {
     "data": {
      "application/vnd.jupyter.widget-view+json": {
       "model_id": "b2d6072b883442fe8caea6189f8f4f74",
       "version_major": 2,
       "version_minor": 0
      },
      "text/html": [
       "<p>Failed to display Jupyter Widget of type <code>Figure</code>.</p>\n",
       "<p>\n",
       "  If you're reading this message in the Jupyter Notebook or JupyterLab Notebook, it may mean\n",
       "  that the widgets JavaScript is still loading. If this message persists, it\n",
       "  likely means that the widgets JavaScript library is either not installed or\n",
       "  not enabled. See the <a href=\"https://ipywidgets.readthedocs.io/en/stable/user_install.html\">Jupyter\n",
       "  Widgets Documentation</a> for setup instructions.\n",
       "</p>\n",
       "<p>\n",
       "  If you're reading this message in another frontend (for example, a static\n",
       "  rendering on GitHub or <a href=\"https://nbviewer.jupyter.org/\">NBViewer</a>),\n",
       "  it may mean that your frontend doesn't currently support widgets.\n",
       "</p>\n"
      ],
      "text/plain": [
       "Figure(layout=FigureLayout(height='420px'))"
      ]
     },
     "metadata": {},
     "output_type": "display_data"
    }
   ],
   "source": [
    "weights = houston['average_rate_per_night_float'].astype(\"float\")\n",
    "\n",
    "locations = houston[['latitude', 'longitude']]\n",
    "fig = gmaps.figure()\n",
    "fig.add_layer(gmaps.heatmap_layer(locations, weights=weights))\n",
    "fig"
   ]
  },
  {
   "cell_type": "code",
   "execution_count": null,
   "metadata": {},
   "outputs": [],
   "source": []
  }
 ],
 "metadata": {
  "kernelspec": {
   "display_name": "Python [default]",
   "language": "python",
   "name": "python3"
  },
  "language_info": {
   "codemirror_mode": {
    "name": "ipython",
    "version": 3
   },
   "file_extension": ".py",
   "mimetype": "text/x-python",
   "name": "python",
   "nbconvert_exporter": "python",
   "pygments_lexer": "ipython3",
   "version": "3.6.4"
  }
 },
 "nbformat": 4,
 "nbformat_minor": 2
}
