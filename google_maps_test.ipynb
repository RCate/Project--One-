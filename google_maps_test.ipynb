{
 "cells": [
  {
   "cell_type": "code",
   "execution_count": 9,
   "metadata": {},
   "outputs": [],
   "source": [
    "import gmaps\n",
    "import gmaps.datasets\n",
    "import numpy as np\n",
    "import requests\n",
    "import json\n",
    "import pandas as pd\n",
    "import base64"
   ]
  },
  {
   "cell_type": "code",
   "execution_count": 10,
   "metadata": {},
   "outputs": [],
   "source": [
    "from test_environment_Homeaway import google_api_key"
   ]
  },
  {
   "cell_type": "code",
   "execution_count": 11,
   "metadata": {},
   "outputs": [
    {
     "data": {
      "text/plain": [
       "Index(['Unnamed: 0', 'average_rate_per_night', 'bedrooms_count', 'city',\n",
       "       'date_of_listing', 'description', 'latitude', 'longitude', 'title',\n",
       "       'url'],\n",
       "      dtype='object')"
      ]
     },
     "execution_count": 11,
     "metadata": {},
     "output_type": "execute_result"
    }
   ],
   "source": [
    "# Importing csv file which has all of the airbnb data from data world.\n",
    "\n",
    "air = pd.read_csv(\"Airbnb_Texas_Rentals.csv\")\n",
    "# air2 = pd.read_csv(\"listings_summary.csv\")\n",
    "# airbig = pd.read_csv(\"listings.csv\")\n",
    "air.columns"
   ]
  },
  {
   "cell_type": "code",
   "execution_count": 7,
   "metadata": {
    "scrolled": true
   },
   "outputs": [
    {
     "data": {
      "text/html": [
       "<div>\n",
       "<style scoped>\n",
       "    .dataframe tbody tr th:only-of-type {\n",
       "        vertical-align: middle;\n",
       "    }\n",
       "\n",
       "    .dataframe tbody tr th {\n",
       "        vertical-align: top;\n",
       "    }\n",
       "\n",
       "    .dataframe thead th {\n",
       "        text-align: right;\n",
       "    }\n",
       "</style>\n",
       "<table border=\"1\" class=\"dataframe\">\n",
       "  <thead>\n",
       "    <tr style=\"text-align: right;\">\n",
       "      <th></th>\n",
       "      <th>Unnamed: 0</th>\n",
       "      <th>average_rate_per_night</th>\n",
       "      <th>bedrooms_count</th>\n",
       "      <th>city</th>\n",
       "      <th>date_of_listing</th>\n",
       "      <th>description</th>\n",
       "      <th>latitude</th>\n",
       "      <th>longitude</th>\n",
       "      <th>title</th>\n",
       "      <th>url</th>\n",
       "    </tr>\n",
       "  </thead>\n",
       "  <tbody>\n",
       "    <tr>\n",
       "      <th>0</th>\n",
       "      <td>1</td>\n",
       "      <td>$27</td>\n",
       "      <td>2</td>\n",
       "      <td>Humble</td>\n",
       "      <td>May 2016</td>\n",
       "      <td>Welcome to stay in private room with queen bed...</td>\n",
       "      <td>30.020138</td>\n",
       "      <td>-95.293996</td>\n",
       "      <td>2 Private rooms/bathroom 10min from IAH airport</td>\n",
       "      <td>https://www.airbnb.com/rooms/18520444?location...</td>\n",
       "    </tr>\n",
       "    <tr>\n",
       "      <th>1</th>\n",
       "      <td>2</td>\n",
       "      <td>$149</td>\n",
       "      <td>4</td>\n",
       "      <td>San Antonio</td>\n",
       "      <td>November 2010</td>\n",
       "      <td>Stylish, fully remodeled home in upscale NW – ...</td>\n",
       "      <td>29.503068</td>\n",
       "      <td>-98.447688</td>\n",
       "      <td>Unique Location! Alamo Heights - Designer Insp...</td>\n",
       "      <td>https://www.airbnb.com/rooms/17481455?location...</td>\n",
       "    </tr>\n",
       "    <tr>\n",
       "      <th>2</th>\n",
       "      <td>3</td>\n",
       "      <td>$59</td>\n",
       "      <td>1</td>\n",
       "      <td>Houston</td>\n",
       "      <td>January 2017</td>\n",
       "      <td>'River house on island close to the city' \\nA ...</td>\n",
       "      <td>29.829352</td>\n",
       "      <td>-95.081549</td>\n",
       "      <td>River house near the city</td>\n",
       "      <td>https://www.airbnb.com/rooms/16926307?location...</td>\n",
       "    </tr>\n",
       "  </tbody>\n",
       "</table>\n",
       "</div>"
      ],
      "text/plain": [
       "   Unnamed: 0 average_rate_per_night bedrooms_count         city  \\\n",
       "0           1                    $27              2       Humble   \n",
       "1           2                   $149              4  San Antonio   \n",
       "2           3                    $59              1      Houston   \n",
       "\n",
       "  date_of_listing                                        description  \\\n",
       "0        May 2016  Welcome to stay in private room with queen bed...   \n",
       "1   November 2010  Stylish, fully remodeled home in upscale NW – ...   \n",
       "2    January 2017  'River house on island close to the city' \\nA ...   \n",
       "\n",
       "    latitude  longitude                                              title  \\\n",
       "0  30.020138 -95.293996    2 Private rooms/bathroom 10min from IAH airport   \n",
       "1  29.503068 -98.447688  Unique Location! Alamo Heights - Designer Insp...   \n",
       "2  29.829352 -95.081549                          River house near the city   \n",
       "\n",
       "                                                 url  \n",
       "0  https://www.airbnb.com/rooms/18520444?location...  \n",
       "1  https://www.airbnb.com/rooms/17481455?location...  \n",
       "2  https://www.airbnb.com/rooms/16926307?location...  "
      ]
     },
     "execution_count": 7,
     "metadata": {},
     "output_type": "execute_result"
    }
   ],
   "source": [
    "air.head(3)"
   ]
  },
  {
   "cell_type": "code",
   "execution_count": 8,
   "metadata": {},
   "outputs": [
    {
     "data": {
      "text/plain": [
       "(array([   25,    25,    25,   103,   103,   103,   104,   104,   104,\n",
       "          105,   105,   105,   167,   167,   167,   168,   168,   169,\n",
       "          169,   169,   170,   170,   170,   171,   171,   171,   172,\n",
       "          172,   172,   174,   174,   175,   175,   177,   177,   177,\n",
       "          179,   179,   179,   180,   180,   180,   181,   181,   181,\n",
       "          342,   342,   342,   343,   343,   343,   344,   344,   344,\n",
       "          345,   345,   346,   346,   346,   362,   362,   362,   408,\n",
       "          866,   866,   866,   867,   867,   867,   877,   877,   947,\n",
       "          947,   947,   954,   954,  1120,  1120,  1120,  1122,  1122,\n",
       "         1122,  1214,  1214,  1214,  1216,  1216,  1216,  1217,  1217,\n",
       "         1217,  1218,  1218,  1218,  1219,  1219,  1219,  3849,  6875,\n",
       "         7501,  9296, 14237, 16811, 17186]),\n",
       " array([1, 6, 7, 1, 6, 7, 1, 6, 7, 1, 6, 7, 1, 6, 7, 6, 7, 1, 6, 7, 1, 6,\n",
       "        7, 1, 6, 7, 1, 6, 7, 6, 7, 6, 7, 1, 6, 7, 1, 6, 7, 1, 6, 7, 1, 6,\n",
       "        7, 1, 6, 7, 1, 6, 7, 1, 6, 7, 6, 7, 1, 6, 7, 1, 6, 7, 5, 1, 6, 7,\n",
       "        1, 6, 7, 6, 7, 1, 6, 7, 6, 7, 1, 6, 7, 1, 6, 7, 1, 6, 7, 1, 6, 7,\n",
       "        1, 6, 7, 1, 6, 7, 1, 6, 7, 8, 2, 8, 8, 2, 2, 5]))"
      ]
     },
     "execution_count": 8,
     "metadata": {},
     "output_type": "execute_result"
    }
   ],
   "source": [
    "# Looking for all of the Nan data \n",
    "np.where(pd.isnull(air))"
   ]
  },
  {
   "cell_type": "code",
   "execution_count": null,
   "metadata": {},
   "outputs": [],
   "source": [
    "# Deleting all of the nan data for the columns that are needed for google maps\n",
    "air.dropna(subset=['latitude'], inplace=True)\n",
    "air.dropna(subset=['longitude'], inplace=True)"
   ]
  },
  {
   "cell_type": "code",
   "execution_count": null,
   "metadata": {},
   "outputs": [],
   "source": [
    "# Removing the $ sign from the average rate column and adding a new column without it\n",
    "air[\"average_rate_per_night_float\"] = air[\"average_rate_per_night\"].str.replace('$', '')"
   ]
  },
  {
   "cell_type": "code",
   "execution_count": null,
   "metadata": {},
   "outputs": [],
   "source": [
    "# Turning just the major city listings into a dataframe\n",
    "austin = air[air[\"city\"]==\"Austin\"]\n",
    "sanantonio = air[air[\"city\"]==\"San Antonio\"]\n",
    "houston = air[air[\"city\"]==\"Houston\"]\n",
    "dallas = air[air[\"city\"]==\"Dallas\"]\n",
    "fortworth = air[air[\"city\"]==\"Fort Worth\"]\n",
    "corpus = air[air[\"city\"]==\"Corpus Christi\"]\n",
    "nb = air[air[\"city\"]==\"New Braunfels\"]\n"
   ]
  },
  {
   "cell_type": "code",
   "execution_count": null,
   "metadata": {},
   "outputs": [],
   "source": [
    "austin.head(3)"
   ]
  },
  {
   "cell_type": "code",
   "execution_count": null,
   "metadata": {},
   "outputs": [],
   "source": [
    "gmaps.configure(api_key=google_api_key)"
   ]
  },
  {
   "cell_type": "code",
   "execution_count": null,
   "metadata": {},
   "outputs": [],
   "source": [
    "# type(austin[\"longitude\"])\n",
    "# np.where(pd.isnull(austin))\n",
    "# austin.dropna(subset=['latitude'], inplace=True)"
   ]
  },
  {
   "cell_type": "code",
   "execution_count": null,
   "metadata": {},
   "outputs": [],
   "source": [
    "austin.count()"
   ]
  },
  {
   "cell_type": "code",
   "execution_count": null,
   "metadata": {},
   "outputs": [],
   "source": [
    "# Adding a new average rate column without the evil $ sign\n",
    "austin[\"average_rate_per_night_float\"] = austin[\"average_rate_per_night\"].str.replace('$', '')"
   ]
  },
  {
   "cell_type": "code",
   "execution_count": null,
   "metadata": {},
   "outputs": [],
   "source": [
    "# Giving the gmaps function a float column to work with\n",
    "weights = austin['average_rate_per_night_float'].astype(\"float\")"
   ]
  },
  {
   "cell_type": "code",
   "execution_count": null,
   "metadata": {},
   "outputs": [],
   "source": [
    "locations = austin[['latitude', 'longitude']]\n",
    "fig = gmaps.figure()\n",
    "fig.add_layer(gmaps.heatmap_layer(locations, weights=weights))\n",
    "fig"
   ]
  },
  {
   "cell_type": "code",
   "execution_count": null,
   "metadata": {},
   "outputs": [],
   "source": [
    "weights = houston['average_rate_per_night_float'].astype(\"float\")\n",
    "\n",
    "locations = houston[['latitude', 'longitude']]\n",
    "fig = gmaps.figure()\n",
    "fig.add_layer(gmaps.heatmap_layer(locations, weights=weights))\n",
    "fig"
   ]
  },
  {
   "cell_type": "code",
   "execution_count": null,
   "metadata": {
    "scrolled": true
   },
   "outputs": [],
   "source": [
    "# weights = nb['average_rate_per_night_float'].astype(\"float\")\n",
    "\n",
    "# locations = nb[['latitude', 'longitude']]\n",
    "# fig = gmaps.figure()\n",
    "# fig.add_layer(gmaps.heatmap_layer(locations, weights=weights))\n",
    "# fig"
   ]
  },
  {
   "cell_type": "code",
   "execution_count": null,
   "metadata": {},
   "outputs": [],
   "source": [
    "airbig.head(15)"
   ]
  },
  {
   "cell_type": "code",
   "execution_count": null,
   "metadata": {},
   "outputs": [],
   "source": [
    "#from bs4 import BeautifulSoup\n",
    "pd.read_html(\"https://www.w3schools.com/html/html_tables.asp\", match=\".+\" )"
   ]
  },
  {
   "cell_type": "code",
   "execution_count": null,
   "metadata": {},
   "outputs": [],
   "source": []
  }
 ],
 "metadata": {
  "kernelspec": {
   "display_name": "Python [default]",
   "language": "python",
   "name": "python3"
  },
  "language_info": {
   "codemirror_mode": {
    "name": "ipython",
    "version": 3
   },
   "file_extension": ".py",
   "mimetype": "text/x-python",
   "name": "python",
   "nbconvert_exporter": "python",
   "pygments_lexer": "ipython3",
   "version": "3.6.4"
  }
 },
 "nbformat": 4,
 "nbformat_minor": 2
}
